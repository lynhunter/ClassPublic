{
 "cells": [
  {
   "cell_type": "markdown",
   "metadata": {
    "button": false,
    "deletable": true,
    "new_sheet": false,
    "run_control": {
     "read_only": false
    }
   },
   "source": [
    "<h1 align=center>Lyn Hunter Capstone Summary</h1>"
   ]
  },
  {
   "cell_type": "markdown",
   "metadata": {
    "button": false,
    "deletable": true,
    "new_sheet": false,
    "run_control": {
     "read_only": false
    }
   },
   "source": [
    "   "
   ]
  },
  {
   "cell_type": "markdown",
   "metadata": {
    "button": false,
    "deletable": true,
    "new_sheet": false,
    "run_control": {
     "read_only": false
    }
   },
   "source": [
    "## Introduction\n",
    "\n",
    "The problem that we plan to solve in this analysis is finding the best location for one or two coffee shops for an entrepreneur who is contemplating opening a coffee shop in the Milwaukee Wisconsin area. She already has several coffee shops in New Orleans and Philadelphia. The client wanted a fairly quick and low cost analysis to determine if there is enough potential for a successful new coffee shop. If this analysis shows that potential, she plans to fly out to Milwaukee and perform due diligence on the coffee shops this analysis presents and on the selected areas.\n",
    "She has learned from the years of experience in her other coffee shops that her shops are most successful when a new location:<P><P> \n",
    "    \n",
    "<UL><LI>Is not more than two miles from the center of town; </LI>\n",
    "<LI>Is within walking distance of at least two museums;</LI>\n",
    "<LI>Has no more than two coffee shops in a two block radius;</LI>\n",
    "<LI>Has one or more bars on the same block.</LI></UL>\n",
    "\n",
    "\n",
    "## Data\n",
    "This analysis uses four different data sets from FourSquare that from the types of relevant venues in the Milwaukee area.<P>\n",
    "1. Venues search for museums in the Milwaukee area<P>\n",
    "2. Venues search for coffee shops in the Milwaukee area<P>\n",
    "3. Venues search for coffee shops in the Milwaukee area\n",
    "<P><P>\n",
    "Here is some example data to show the key features of the FourSquare data: Venue, Categories, Distance from town center, etc...\n",
    "<H3>Museum Data</H3>\n",
    "<TABLE BORDER='1'>\n",
    "<TR><TD>Index</TD><TD>Venue Name</TD><TD>Categories</TD><TD>Address</TD><TD>Distance</TD><TD>PostalCode</TD><TD>ID</TD></TR>\n",
    "<TR><TD>0</TD><TD>Harley-Davidson Museum</TD><TD>Museum</TD><TD>400 W Canal St</TD><TD>607</TD><TD>53203</TD><TD>4ad4ac8af964a5209ae820e3</TD></TR>\n",
    "<TR><TD>1</TD><TD>The Shop at the Harley-Davidson Museum</TD><TD>Gift Shop</TD><TD>401 W Canal St</TD><TD>641</TD><TD>53203</TD><TD>4c1907ec98f4a5932c71fff5</TD></TR></TABLE>\n",
    "<P>\n",
    "<H3>Coffee Shop Data</H3>\n",
    "<TABLE BORDER='1'><TR><TD>Index</TD><TD>Venue Name</TD><TD>Categories</TD><TD>Address</TD><TD>Distance</TD><TD>ID</TD></TR>\n",
    "<TR><TD>0</TD><TD>Brew Bayou Coffee Shop</TD><TD>Coffee Shop</TD><TD>1442 W Wisconsin Ave</TD><TD> </TD><TD>4af1b315f964a52052e221e3</TD></TR>\n",
    "<TR><TD>1</TD><TD>Windhover Coffee Shop</TD><TD>Coffee Shop</TD><TD> </TD><TD>2146</TD><TD>56c62824498e98aaf3e8ab90</TD></TR>\n",
    "<TR><TD>2</TD><TD>Blatz Cafe Coffee Shop</TD><TD>Coffee Shop</TD><TD>270 E Highland Ave</TD><TD>1807</TD><TD>4ade3557f964a520ee7321e3</TD></TR>\n",
    "<TR><TD>3</TD><TD>Sweet Black Coffee Shop</TD><TD>Coffee Shop</TD><TD>2411 N Dr Martin Luther King Dr</TD><TD>3154</TD><TD>4c2e7d02452620a184f81b0f</TD></TR></TABLE>\n",
    "<P>\n",
    "<H3>Bar Data</H3>\n",
    "<TABLE BORDER='1'><TR><TD>Index</TD><TD>Name</TD><TD>Address</TD><TD>Distance</TD><TD>ID</TD></TR>\n",
    "<TR><TD>0</TD><TD>Bar 360 </TD><TD>1721 W Canal St </TD><TD>1121</TD><TD>4b9d990ef964a520afb536e3 </TD></TR>\n",
    "<TR><TD>1</TD><TD>Avenue Bar & Grill </TD><TD>611 W Wisconsin Ave </TD><TD>484</TD><TD>4b61cccbf964a520a5232ae3 </TD></TR>\n",
    "    <TR><TD>2</TABLE><P><P>\n",
    "\n",
    "## Analysis\n",
    "The desired outcome is create a map with plotted circles that contain several features:\n",
    "1. Plotted circle at the center of Milwaukee\n",
    "2. Plotted circles for museums\n",
    "3. Plotted circles for coffee shops\n",
    "\n",
    "Because the map can be zoomed in, my client can find the exact street and building of suitable locations that meet her business parameters. She will be able to use the map to find the exact street and building that will be ideal for her new venture.\n"
   ]
  },
  {
   "cell_type": "markdown",
   "metadata": {
    "button": false,
    "deletable": true,
    "new_sheet": false,
    "run_control": {
     "read_only": false
    }
   },
   "source": [
    "### Main Steps\n",
    "1. Define geocoder and get Milwaukee's latitude and longitude\n",
    "2. Create a search query to return foursquare museum data for Milwaukee\n",
    "3. Create a search query to return foursquare coffee data for Milwaukee\n",
    "4. Create a search query to return foursquare coffee data for Milwaukee\n",
    "5. Get JSON data for both data sets\n",
    "6. Create a pandas dataframe for both data sets and normalize the data\n",
    "7. Format the data for better plotting\n",
    "8. Create the map to examine the proximity of existing museums and coffee shops\n",
    "9. Work with the client to help her understand how to analyze the final map"
   ]
  },
  {
   "cell_type": "markdown",
   "metadata": {
    "button": false,
    "deletable": true,
    "new_sheet": false,
    "run_control": {
     "read_only": false
    }
   },
   "source": [
    "  "
   ]
  },
  {
   "cell_type": "markdown",
   "metadata": {
    "button": false,
    "deletable": true,
    "new_sheet": false,
    "run_control": {
     "read_only": false
    }
   },
   "source": [
    "   "
   ]
  },
  {
   "cell_type": "markdown",
   "metadata": {
    "button": false,
    "deletable": true,
    "new_sheet": false,
    "run_control": {
     "read_only": false
    }
   },
   "source": [
    "<a id=\"item1\"></a>"
   ]
  },
  {
   "cell_type": "markdown",
   "metadata": {
    "button": false,
    "deletable": true,
    "new_sheet": false,
    "run_control": {
     "read_only": false
    }
   },
   "source": [
    "   "
   ]
  },
  {
   "cell_type": "markdown",
   "metadata": {
    "button": false,
    "deletable": true,
    "new_sheet": false,
    "run_control": {
     "read_only": false
    }
   },
   "source": [
    "<a id=\"item2\"></a>"
   ]
  }
 ],
 "metadata": {
  "kernelspec": {
   "display_name": "Python",
   "language": "python",
   "name": "conda-env-python-py"
  },
  "language_info": {
   "codemirror_mode": {
    "name": "ipython",
    "version": 3
   },
   "file_extension": ".py",
   "mimetype": "text/x-python",
   "name": "python",
   "nbconvert_exporter": "python",
   "pygments_lexer": "ipython3",
   "version": "3.6.7"
  },
  "widgets": {
   "state": {},
   "version": "1.1.2"
  }
 },
 "nbformat": 4,
 "nbformat_minor": 4
}
